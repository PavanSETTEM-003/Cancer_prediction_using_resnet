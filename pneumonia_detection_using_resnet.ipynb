{
  "nbformat": 4,
  "nbformat_minor": 0,
  "metadata": {
    "colab": {
      "provenance": [],
      "include_colab_link": true
    },
    "kernelspec": {
      "name": "python3",
      "display_name": "Python 3"
    },
    "language_info": {
      "name": "python"
    },
    "gpuClass": "standard",
    "accelerator": "GPU"
  },
  "cells": [
    {
      "cell_type": "markdown",
      "metadata": {
        "id": "view-in-github",
        "colab_type": "text"
      },
      "source": [
        "<a href=\"https://colab.research.google.com/github/PavanSETTEM-003/pneumonia_detection_using_resnet/blob/main/pneumonia_detection_using_resnet.ipynb\" target=\"_parent\"><img src=\"https://colab.research.google.com/assets/colab-badge.svg\" alt=\"Open In Colab\"/></a>"
      ]
    },
    {
      "cell_type": "markdown",
      "source": [
        "## &nbsp; &nbsp; &nbsp; &nbsp; &nbsp; &nbsp; &nbsp; &nbsp; &nbsp; &nbsp; &nbsp; &nbsp;  &nbsp;    &nbsp; &nbsp;&nbsp; &nbsp;&nbsp;&nbsp;&nbsp;&nbsp;&nbsp;&nbsp;Resnet architecture-based Convolution Neural Network\n",
        "\n",
        "\n"
      ],
      "metadata": {
        "id": "OEh773LPwYQD"
      }
    },
    {
      "cell_type": "markdown",
      "source": [
        "A machine learning model has been developed to detect pneumonia from x-ray images. The dataset used for training and evaluating the model includes chest x-ray images that have been labeled as either normal or pneumonia.<br> Pneumonia is a lung infection caused by bacteria or viruses that results in inflammation and the buildup of fluid in the lungs, leading to difficulty in breathing. The model uses these labeled images to learn to classify new x-ray images as normal or indicating pneumonia.\n"
      ],
      "metadata": {
        "id": "rXY0rdXYqhdR"
      }
    },
    {
      "cell_type": "markdown",
      "source": [
        "<hr>\n",
        "\n",
        "**Dataset**&nbsp;&nbsp;&nbsp;&nbsp;&nbsp;&nbsp;&nbsp;&nbsp;&nbsp;&nbsp;&nbsp;&nbsp;&nbsp;&nbsp;&nbsp;&nbsp;&nbsp;&nbsp;&nbsp;&nbsp;&nbsp;&nbsp;&nbsp;&nbsp;&nbsp;&nbsp;&nbsp;&nbsp;&nbsp;[no of images]<br>\n",
        "   |<br>\n",
        "   |------ **Train**<br>\n",
        "   |&nbsp;&nbsp;&nbsp;&nbsp;&nbsp;&nbsp;&nbsp;&nbsp;&nbsp;&nbsp;&nbsp;&nbsp;|<br>\n",
        "   |&nbsp;&nbsp;&nbsp;&nbsp;&nbsp;&nbsp;&nbsp;&nbsp;&nbsp;&nbsp;&nbsp;&nbsp;|  >> Normal&nbsp;&nbsp;&nbsp;&nbsp;&nbsp;&nbsp;&nbsp;&nbsp;&nbsp;&nbsp;&nbsp;&nbsp;&nbsp;[1200]<br>\n",
        "   |&nbsp;&nbsp;&nbsp;&nbsp;&nbsp;&nbsp;&nbsp;&nbsp;&nbsp;&nbsp;&nbsp;&nbsp;|  >> Pneumonia  &nbsp;&nbsp;&nbsp;&nbsp;&nbsp;&nbsp;[1200]<br>\n",
        "   |<br>\n",
        "   |------ **Test**<br>\n",
        "   |&nbsp;&nbsp;&nbsp;&nbsp;&nbsp;&nbsp;&nbsp;&nbsp;&nbsp;&nbsp;&nbsp;&nbsp;|<br>\n",
        "   |&nbsp;&nbsp;&nbsp;&nbsp;&nbsp;&nbsp;&nbsp;&nbsp;&nbsp;&nbsp;&nbsp;&nbsp;| >> Normal&nbsp;&nbsp;&nbsp;&nbsp;&nbsp;&nbsp;&nbsp;&nbsp;&nbsp;&nbsp;&nbsp;&nbsp;&nbsp;[242]<br>\n",
        "   |&nbsp;&nbsp;&nbsp;&nbsp;&nbsp;&nbsp;&nbsp;&nbsp;&nbsp;&nbsp;&nbsp;&nbsp;| >> Pneumonia   &nbsp;&nbsp;&nbsp;&nbsp;&nbsp;&nbsp;[398]<br>\n",
        "   <br>\n",
        "\n",
        "<hr>"
      ],
      "metadata": {
        "id": "ihJFgPQysW2c"
      }
    },
    {
      "cell_type": "markdown",
      "source": [
        "The model was trained on a dataset that has an equal number of images from both classes (normal and pneumonia)<br>\n",
        "The test dataset was then used to evaluate the model's accuracy.<br>\n",
        "\n",
        "The process includes:\n",
        "\n",
        "*   Loading the images into the development environment using the os library\n",
        "*   Preprocessing the images\n",
        "*   Training the CNN model with the train dataset\n",
        "*   Analyzing the classification performance of the model\n",
        "\n",
        "\n",
        "\n"
      ],
      "metadata": {
        "id": "8isdqhok4ObQ"
      }
    },
    {
      "cell_type": "code",
      "execution_count": null,
      "metadata": {
        "id": "pj_sjAcpSj_C",
        "colab": {
          "base_uri": "https://localhost:8080/"
        },
        "outputId": "4769afd9-e2d5-4af2-f449-41b5eafa112b"
      },
      "outputs": [
        {
          "output_type": "stream",
          "name": "stdout",
          "text": [
            "Drive already mounted at /content/drive; to attempt to forcibly remount, call drive.mount(\"/content/drive\", force_remount=True).\n"
          ]
        }
      ],
      "source": [
        "from google.colab import drive\n",
        "drive.mount('/content/drive')"
      ]
    },
    {
      "cell_type": "code",
      "source": [
        "import pandas as pd\n",
        "import numpy as np\n",
        "import matplotlib.pyplot as plt\n",
        "import os\n",
        "import cv2\n",
        "\n",
        "import tensorflow as tf\n",
        "from tensorflow.keras import models, layers\n",
        "from tensorflow import keras\n",
        "from tensorflow.keras.models import Sequential\n",
        "from tensorflow.keras.layers import *\n",
        "\n",
        "from sklearn.utils import shuffle\n",
        "from sklearn.model_selection import train_test_split\n",
        "from sklearn.model_selection import cross_val_score"
      ],
      "metadata": {
        "id": "HSkvkdHzCDpo"
      },
      "execution_count": null,
      "outputs": []
    },
    {
      "cell_type": "code",
      "source": [
        "## data from the files were fetched into the local variables\n",
        "normal_train_path = r\"/content/drive/MyDrive/Cancer prediction/Resized_256*256/Train/NORMAL\"\n",
        "normal_train_img = os.listdir(normal_train_path)\n",
        "\n",
        "normal_train = []\n",
        "for img in normal_train_img[0:1200]:\n",
        "  input_img = cv2.imread(normal_train_path+ '/' + img,0)\n",
        "  input_img = cv2.cvtColor(input_img,cv2.COLOR_GRAY2RGB)   ## converting to gray scale to reduce the computations\n",
        "  normal_train.append(input_img)                           ## appending the read images values to a list \n",
        "print(\"shape\",np.shape(normal_train))\n",
        "\n",
        "normal_train_array = np.array(normal_train)                ## list to numpy array conversion\n",
        "normal_train_array = normal_train_array.astype('float32')\n",
        "\n",
        "normal_train_array /= 255                                  ## dividing every pixel value by 255 will bring the total pixel values in between the range to 0-1\n",
        "normal_train_array.shape"
      ],
      "metadata": {
        "colab": {
          "base_uri": "https://localhost:8080/"
        },
        "id": "56yodaiH3viE",
        "outputId": "908816e0-7d6f-4927-d845-9c442766d7bf"
      },
      "execution_count": null,
      "outputs": [
        {
          "output_type": "stream",
          "name": "stdout",
          "text": [
            "shape (1200, 256, 256, 3)\n"
          ]
        },
        {
          "output_type": "execute_result",
          "data": {
            "text/plain": [
              "(1200, 256, 256, 3)"
            ]
          },
          "metadata": {},
          "execution_count": 3
        }
      ]
    },
    {
      "cell_type": "code",
      "source": [
        "pneumonic_train_path = r\"/content/drive/MyDrive/Cancer prediction/Resized_256*256/Train/PNEUMONIA\"\n",
        "pneumonic_train_img = os.listdir(pneumonic_train_path)\n",
        "\n",
        "pneumonic_train = []\n",
        "for img in pneumonic_train_img[0:1200]:\n",
        "  input_img = cv2.imread(pneumonic_train_path+ '/' + img,0)\n",
        "  input_img = cv2.cvtColor(input_img,cv2.COLOR_GRAY2RGB)\n",
        "  pneumonic_train.append(input_img)\n",
        "print(\"shape\",np.shape(pneumonic_train))\n",
        "\n",
        "pneumonic_train_array = np.array(pneumonic_train)\n",
        "pneumonic_train_array = pneumonic_train_array.astype('float32')\n",
        "\n",
        "pneumonic_train_array /= 255\n",
        "pneumonic_train_array.shape"
      ],
      "metadata": {
        "colab": {
          "base_uri": "https://localhost:8080/"
        },
        "id": "7kCTKffa4TKz",
        "outputId": "aea2d1cb-f99d-402f-ac7a-631bd06a1d3a"
      },
      "execution_count": null,
      "outputs": [
        {
          "output_type": "stream",
          "name": "stdout",
          "text": [
            "shape (1200, 256, 256, 3)\n"
          ]
        },
        {
          "output_type": "execute_result",
          "data": {
            "text/plain": [
              "(1200, 256, 256, 3)"
            ]
          },
          "metadata": {},
          "execution_count": 4
        }
      ]
    },
    {
      "cell_type": "code",
      "source": [
        "normal_test_path = r\"/content/drive/MyDrive/Cancer prediction/Resized_256*256/test/NORMAL\"\n",
        "normal_test_img = os.listdir(normal_test_path)\n",
        "\n",
        "normal_test = []\n",
        "for img in normal_test_img:\n",
        "  input_img = cv2.imread(normal_test_path+ '/' + img,0)\n",
        "  input_img = cv2.cvtColor(input_img,cv2.COLOR_GRAY2RGB)\n",
        "  normal_test.append(input_img)\n",
        "print(\"shape\",np.shape(normal_test))\n",
        "\n",
        "normal_test_array = np.array(normal_test)\n",
        "normal_test_array = normal_test_array.astype('float32')\n",
        "\n",
        "normal_test_array /= 255\n",
        "normal_test_array.shape"
      ],
      "metadata": {
        "colab": {
          "base_uri": "https://localhost:8080/"
        },
        "id": "ZA91FKKTHaFK",
        "outputId": "a4f69403-a107-499b-859f-222d170c63b0"
      },
      "execution_count": null,
      "outputs": [
        {
          "output_type": "stream",
          "name": "stdout",
          "text": [
            "shape (234, 256, 256, 3)\n"
          ]
        },
        {
          "output_type": "execute_result",
          "data": {
            "text/plain": [
              "(234, 256, 256, 3)"
            ]
          },
          "metadata": {},
          "execution_count": 5
        }
      ]
    },
    {
      "cell_type": "code",
      "source": [
        "pneumonic_test_path = r\"/content/drive/MyDrive/Cancer prediction/Resized_256*256/test/PNEUMONIA\"\n",
        "pneumonic_test_img = os.listdir(pneumonic_test_path)\n",
        "\n",
        "pneumonic_test = []\n",
        "for img in pneumonic_test_img:\n",
        "  input_img = cv2.imread(pneumonic_test_path+ '/' + img,0)\n",
        "  input_img = cv2.cvtColor(input_img,cv2.COLOR_GRAY2RGB)\n",
        "  pneumonic_test.append(input_img)\n",
        "print(\"shape\",np.shape(pneumonic_test))\n",
        "\n",
        "pneumonic_test_array = np.array(pneumonic_test)\n",
        "pneumonic_test_array = pneumonic_test_array.astype('float32')\n",
        "\n",
        "pneumonic_test_array /= 255\n",
        "pneumonic_test_array.shape"
      ],
      "metadata": {
        "colab": {
          "base_uri": "https://localhost:8080/"
        },
        "id": "_ljv4r0-HqR5",
        "outputId": "874cf1a0-31db-4572-e623-c3e8e545bd07"
      },
      "execution_count": null,
      "outputs": [
        {
          "output_type": "stream",
          "name": "stdout",
          "text": [
            "shape (390, 256, 256, 3)\n"
          ]
        },
        {
          "output_type": "execute_result",
          "data": {
            "text/plain": [
              "(390, 256, 256, 3)"
            ]
          },
          "metadata": {},
          "execution_count": 6
        }
      ]
    },
    {
      "cell_type": "code",
      "source": [
        "x_train = np.vstack((normal_train_array,pneumonic_train_array))\n",
        "x_test = np.vstack((normal_test_array,pneumonic_test_array))\n",
        "print(x_train.shape,x_test.shape)\n",
        "\n",
        "\n",
        "y_train  = [0]*(normal_train_array.shape[0]) + [1]*(pneumonic_train_array.shape[0])\n",
        "y_test = [0]*(normal_test_array.shape[0]) + [1]*pneumonic_test_array.shape[0]\n",
        "print(len(y_train),len(y_test))\n",
        "from keras.utils import to_categorical\n",
        "y_train= to_categorical(y_train)\n",
        "y_test = to_categorical(y_test)\n",
        "\n",
        "\n",
        "\n",
        "x_train,y_train = shuffle(x_train,y_train,random_state =3)\n",
        "x_test,y_test = shuffle(x_test,y_test,random_state =3)"
      ],
      "metadata": {
        "colab": {
          "base_uri": "https://localhost:8080/"
        },
        "id": "vSbUkhkSlAGf",
        "outputId": "cb1e2ad5-514c-4a15-f238-37c07f86bf81"
      },
      "execution_count": null,
      "outputs": [
        {
          "output_type": "stream",
          "name": "stdout",
          "text": [
            "(2400, 256, 256, 3) (624, 256, 256, 3)\n",
            "2400 624\n"
          ]
        }
      ]
    },
    {
      "cell_type": "markdown",
      "source": [
        "## model"
      ],
      "metadata": {
        "id": "wg3HH2KWiMHI"
      }
    },
    {
      "cell_type": "code",
      "source": [
        "import tensorflow as tf \n",
        "from tensorflow import keras\n",
        "from tensorflow.keras import layers\n",
        "from tensorflow.python.keras.layers import Dense,Flatten\n",
        "from tensorflow.keras.models import Sequential\n",
        "from tensorflow.keras.optimizers import Adam"
      ],
      "metadata": {
        "id": "401NFpFXdk50"
      },
      "execution_count": null,
      "outputs": []
    },
    {
      "cell_type": "code",
      "source": [
        "resnet_model = Sequential()\n",
        "model = tf.keras.applications.ResNet50(\n",
        "    include_top=False,\n",
        "    weights = None,\n",
        "    input_shape=(256,256,3),\n",
        "    classes=2)\n",
        "\n",
        "for layers in model.layers:\n",
        "  layers.trainable = False\n",
        "\n",
        "resnet_model.add(model)\n",
        "resnet_model.add(Flatten())\n",
        "resnet_model.add(Dense(512,activation=\"relu\"))\n",
        "resnet_model.add(Dense(256,activation=\"relu\"))\n",
        "resnet_model.add(Dense(2,activation=\"softmax\"))\n",
        "\n",
        "\n"
      ],
      "metadata": {
        "id": "oqGvwGA4eOce"
      },
      "execution_count": null,
      "outputs": []
    },
    {
      "cell_type": "code",
      "source": [
        "resnet_model.summary()"
      ],
      "metadata": {
        "colab": {
          "base_uri": "https://localhost:8080/"
        },
        "id": "3bnjnVelfizf",
        "outputId": "e8e28eb6-3740-4d1c-aec4-b074639096a7"
      },
      "execution_count": null,
      "outputs": [
        {
          "output_type": "stream",
          "name": "stdout",
          "text": [
            "Model: \"sequential\"\n",
            "_________________________________________________________________\n",
            " Layer (type)                Output Shape              Param #   \n",
            "=================================================================\n",
            " resnet50 (Functional)       (None, 8, 8, 2048)        23587712  \n",
            "                                                                 \n",
            " module_wrapper (ModuleWrapp  (None, 131072)           0         \n",
            " er)                                                             \n",
            "                                                                 \n",
            " module_wrapper_1 (ModuleWra  (None, 512)              67109376  \n",
            " pper)                                                           \n",
            "                                                                 \n",
            " module_wrapper_2 (ModuleWra  (None, 256)              131328    \n",
            " pper)                                                           \n",
            "                                                                 \n",
            " module_wrapper_3 (ModuleWra  (None, 2)                514       \n",
            " pper)                                                           \n",
            "                                                                 \n",
            "=================================================================\n",
            "Total params: 90,828,930\n",
            "Trainable params: 67,241,218\n",
            "Non-trainable params: 23,587,712\n",
            "_________________________________________________________________\n"
          ]
        }
      ]
    },
    {
      "cell_type": "code",
      "source": [
        "resnet_model.compile(optimizer=Adam(lr=0.001),loss='categorical_crossentropy',metrics=['accuracy'])"
      ],
      "metadata": {
        "colab": {
          "base_uri": "https://localhost:8080/"
        },
        "id": "LqObyKq4frwP",
        "outputId": "cd0d2146-c20a-49e8-ae21-eb44a06d80e8"
      },
      "execution_count": null,
      "outputs": [
        {
          "output_type": "stream",
          "name": "stderr",
          "text": [
            "/usr/local/lib/python3.7/dist-packages/keras/optimizers/optimizer_v2/adam.py:110: UserWarning: The `lr` argument is deprecated, use `learning_rate` instead.\n",
            "  super(Adam, self).__init__(name, **kwargs)\n"
          ]
        }
      ]
    },
    {
      "cell_type": "code",
      "source": [
        "history = resnet_model.fit(x_train, y_train, validation_data=(x_test, y_test), epochs=50)"
      ],
      "metadata": {
        "colab": {
          "base_uri": "https://localhost:8080/"
        },
        "id": "K_B_mKWmkNxI",
        "outputId": "938b37cb-1d86-4403-e5b0-214054c19e7c"
      },
      "execution_count": null,
      "outputs": [
        {
          "output_type": "stream",
          "name": "stdout",
          "text": [
            "Epoch 1/50\n",
            "75/75 [==============================] - 26s 197ms/step - loss: 0.6451 - accuracy: 0.7692 - val_loss: 0.3938 - val_accuracy: 0.8093\n",
            "Epoch 2/50\n",
            "75/75 [==============================] - 13s 174ms/step - loss: 0.1838 - accuracy: 0.9292 - val_loss: 0.7561 - val_accuracy: 0.7372\n",
            "Epoch 3/50\n",
            "75/75 [==============================] - 13s 174ms/step - loss: 0.1739 - accuracy: 0.9304 - val_loss: 0.5756 - val_accuracy: 0.7869\n",
            "Epoch 4/50\n",
            "75/75 [==============================] - 13s 176ms/step - loss: 0.1879 - accuracy: 0.9346 - val_loss: 0.4976 - val_accuracy: 0.7997\n",
            "Epoch 5/50\n",
            "75/75 [==============================] - 13s 174ms/step - loss: 0.1291 - accuracy: 0.9508 - val_loss: 0.4638 - val_accuracy: 0.8205\n",
            "Epoch 6/50\n",
            "75/75 [==============================] - 13s 175ms/step - loss: 0.1285 - accuracy: 0.9513 - val_loss: 0.5112 - val_accuracy: 0.8093\n",
            "Epoch 7/50\n",
            "75/75 [==============================] - 13s 172ms/step - loss: 0.1042 - accuracy: 0.9604 - val_loss: 0.5803 - val_accuracy: 0.7949\n",
            "Epoch 8/50\n",
            "75/75 [==============================] - 13s 172ms/step - loss: 0.1088 - accuracy: 0.9571 - val_loss: 0.9315 - val_accuracy: 0.7548\n",
            "Epoch 9/50\n",
            "75/75 [==============================] - 13s 174ms/step - loss: 0.1231 - accuracy: 0.9517 - val_loss: 0.7763 - val_accuracy: 0.7804\n",
            "Epoch 10/50\n",
            "75/75 [==============================] - 13s 173ms/step - loss: 0.1100 - accuracy: 0.9583 - val_loss: 0.9314 - val_accuracy: 0.7596\n",
            "Epoch 11/50\n",
            "75/75 [==============================] - 13s 173ms/step - loss: 0.1589 - accuracy: 0.9312 - val_loss: 0.5479 - val_accuracy: 0.8045\n",
            "Epoch 12/50\n",
            "75/75 [==============================] - 13s 174ms/step - loss: 0.0963 - accuracy: 0.9617 - val_loss: 0.6623 - val_accuracy: 0.7965\n",
            "Epoch 13/50\n",
            "75/75 [==============================] - 13s 175ms/step - loss: 0.0889 - accuracy: 0.9663 - val_loss: 0.4685 - val_accuracy: 0.8253\n",
            "Epoch 14/50\n",
            "75/75 [==============================] - 13s 172ms/step - loss: 0.1225 - accuracy: 0.9508 - val_loss: 0.5623 - val_accuracy: 0.8157\n",
            "Epoch 15/50\n",
            "75/75 [==============================] - 13s 174ms/step - loss: 0.0769 - accuracy: 0.9721 - val_loss: 0.7152 - val_accuracy: 0.7933\n",
            "Epoch 16/50\n",
            "75/75 [==============================] - 13s 172ms/step - loss: 0.0768 - accuracy: 0.9692 - val_loss: 1.2341 - val_accuracy: 0.7356\n",
            "Epoch 17/50\n",
            "75/75 [==============================] - 13s 173ms/step - loss: 0.0922 - accuracy: 0.9638 - val_loss: 0.7957 - val_accuracy: 0.7917\n",
            "Epoch 18/50\n",
            "75/75 [==============================] - 13s 174ms/step - loss: 0.0666 - accuracy: 0.9754 - val_loss: 0.5087 - val_accuracy: 0.8317\n",
            "Epoch 19/50\n",
            "75/75 [==============================] - 13s 172ms/step - loss: 0.1240 - accuracy: 0.9504 - val_loss: 0.4604 - val_accuracy: 0.8141\n",
            "Epoch 20/50\n",
            "75/75 [==============================] - 13s 174ms/step - loss: 0.0877 - accuracy: 0.9671 - val_loss: 0.7982 - val_accuracy: 0.7756\n",
            "Epoch 21/50\n",
            "75/75 [==============================] - 13s 172ms/step - loss: 0.0860 - accuracy: 0.9700 - val_loss: 0.4787 - val_accuracy: 0.8413\n",
            "Epoch 22/50\n",
            "75/75 [==============================] - 13s 176ms/step - loss: 0.0930 - accuracy: 0.9629 - val_loss: 0.7667 - val_accuracy: 0.7821\n",
            "Epoch 23/50\n",
            "75/75 [==============================] - 13s 172ms/step - loss: 0.0636 - accuracy: 0.9762 - val_loss: 1.3701 - val_accuracy: 0.7420\n",
            "Epoch 24/50\n",
            "75/75 [==============================] - 13s 173ms/step - loss: 0.0784 - accuracy: 0.9708 - val_loss: 1.1304 - val_accuracy: 0.7628\n",
            "Epoch 25/50\n",
            "75/75 [==============================] - 13s 174ms/step - loss: 0.0966 - accuracy: 0.9638 - val_loss: 0.8130 - val_accuracy: 0.7869\n",
            "Epoch 26/50\n",
            "75/75 [==============================] - 13s 174ms/step - loss: 0.0638 - accuracy: 0.9762 - val_loss: 0.8113 - val_accuracy: 0.7965\n",
            "Epoch 27/50\n",
            "75/75 [==============================] - 13s 172ms/step - loss: 0.1193 - accuracy: 0.9538 - val_loss: 0.4314 - val_accuracy: 0.8349\n",
            "Epoch 28/50\n",
            "75/75 [==============================] - 13s 174ms/step - loss: 0.0685 - accuracy: 0.9754 - val_loss: 1.5806 - val_accuracy: 0.7131\n",
            "Epoch 29/50\n",
            "75/75 [==============================] - 13s 173ms/step - loss: 0.0916 - accuracy: 0.9633 - val_loss: 0.7266 - val_accuracy: 0.7917\n",
            "Epoch 30/50\n",
            "75/75 [==============================] - 13s 173ms/step - loss: 0.0844 - accuracy: 0.9663 - val_loss: 0.7838 - val_accuracy: 0.7901\n",
            "Epoch 31/50\n",
            "75/75 [==============================] - 13s 174ms/step - loss: 0.0520 - accuracy: 0.9817 - val_loss: 0.7862 - val_accuracy: 0.8029\n",
            "Epoch 32/50\n",
            "75/75 [==============================] - 13s 172ms/step - loss: 0.1026 - accuracy: 0.9567 - val_loss: 0.3873 - val_accuracy: 0.8349\n",
            "Epoch 33/50\n",
            "75/75 [==============================] - 13s 173ms/step - loss: 0.0982 - accuracy: 0.9608 - val_loss: 1.4285 - val_accuracy: 0.7228\n",
            "Epoch 34/50\n",
            "75/75 [==============================] - 13s 175ms/step - loss: 0.0533 - accuracy: 0.9792 - val_loss: 1.3525 - val_accuracy: 0.7420\n",
            "Epoch 35/50\n",
            "75/75 [==============================] - 13s 174ms/step - loss: 0.0563 - accuracy: 0.9783 - val_loss: 1.1171 - val_accuracy: 0.7660\n",
            "Epoch 36/50\n",
            "75/75 [==============================] - 13s 172ms/step - loss: 0.0877 - accuracy: 0.9675 - val_loss: 0.5694 - val_accuracy: 0.8109\n",
            "Epoch 37/50\n",
            "75/75 [==============================] - 13s 174ms/step - loss: 0.0509 - accuracy: 0.9787 - val_loss: 1.7869 - val_accuracy: 0.7228\n",
            "Epoch 38/50\n",
            "75/75 [==============================] - 13s 173ms/step - loss: 0.0527 - accuracy: 0.9792 - val_loss: 0.8599 - val_accuracy: 0.7917\n",
            "Epoch 39/50\n",
            "75/75 [==============================] - 13s 172ms/step - loss: 0.0519 - accuracy: 0.9812 - val_loss: 1.8787 - val_accuracy: 0.7131\n",
            "Epoch 40/50\n",
            "75/75 [==============================] - 13s 174ms/step - loss: 0.0512 - accuracy: 0.9833 - val_loss: 1.7174 - val_accuracy: 0.7404\n",
            "Epoch 41/50\n",
            "75/75 [==============================] - 13s 174ms/step - loss: 0.0571 - accuracy: 0.9796 - val_loss: 0.9648 - val_accuracy: 0.7949\n",
            "Epoch 42/50\n",
            "75/75 [==============================] - 13s 172ms/step - loss: 0.0691 - accuracy: 0.9729 - val_loss: 1.7116 - val_accuracy: 0.7324\n",
            "Epoch 43/50\n",
            "75/75 [==============================] - 13s 172ms/step - loss: 0.0599 - accuracy: 0.9771 - val_loss: 0.9364 - val_accuracy: 0.7821\n",
            "Epoch 44/50\n",
            "75/75 [==============================] - 13s 173ms/step - loss: 0.0451 - accuracy: 0.9842 - val_loss: 1.5611 - val_accuracy: 0.7564\n",
            "Epoch 45/50\n",
            "75/75 [==============================] - 13s 172ms/step - loss: 0.0388 - accuracy: 0.9854 - val_loss: 0.8144 - val_accuracy: 0.8205\n",
            "Epoch 46/50\n",
            "75/75 [==============================] - 13s 173ms/step - loss: 0.0562 - accuracy: 0.9733 - val_loss: 1.3366 - val_accuracy: 0.7628\n",
            "Epoch 47/50\n",
            "75/75 [==============================] - 13s 176ms/step - loss: 0.0450 - accuracy: 0.9842 - val_loss: 1.2014 - val_accuracy: 0.7628\n",
            "Epoch 48/50\n",
            "75/75 [==============================] - 13s 173ms/step - loss: 0.0560 - accuracy: 0.9787 - val_loss: 0.7292 - val_accuracy: 0.8237\n",
            "Epoch 49/50\n",
            "75/75 [==============================] - 13s 172ms/step - loss: 0.0403 - accuracy: 0.9850 - val_loss: 1.4146 - val_accuracy: 0.7676\n",
            "Epoch 50/50\n",
            "75/75 [==============================] - 13s 172ms/step - loss: 0.0424 - accuracy: 0.9825 - val_loss: 0.7787 - val_accuracy: 0.8157\n"
          ]
        }
      ]
    },
    {
      "cell_type": "code",
      "source": [
        "import matplotlib.pyplot as plt\n",
        "fig1 = plt.gcf()\n",
        "plt.plot(history.history['accuracy'])\n",
        "plt.plot(history.history['val_accuracy'])\n",
        "plt.axis(ymin=0.4,ymax=1)\n",
        "plt.grid()\n",
        "plt.title('Model Accuracy')\n",
        "plt.ylabel('Accuracy')\n",
        "plt.xlabel('Epochs')\n",
        "plt.legend(['train', 'validation'])\n",
        "plt.show()"
      ],
      "metadata": {
        "colab": {
          "base_uri": "https://localhost:8080/",
          "height": 295
        },
        "id": "qQ-iLYh-mW_v",
        "outputId": "f8ecd217-7800-43c1-c7c8-da83d360765a"
      },
      "execution_count": null,
      "outputs": [
        {
          "output_type": "display_data",
          "data": {
            "text/plain": [
              "<Figure size 432x288 with 1 Axes>"
            ],
            "image/png": "[encoded data removed]"
          },
          "metadata": {
            "needs_background": "light"
          }
        }
      ]
    },
    {
      "cell_type": "markdown",
      "source": [
        "The resnet architecture performed with an accuracy of 98% and validation accuracy as 81% in correctly classifying the images into their respective classes."
      ],
      "metadata": {
        "id": "z1vT2gPivkg0"
      }
    }
  ]
}